{
  "nbformat": 4,
  "nbformat_minor": 0,
  "metadata": {
    "colab": {
      "provenance": [],
      "authorship_tag": "ABX9TyO9u776AaeY1QEJRZGkZZjh",
      "include_colab_link": true
    },
    "kernelspec": {
      "name": "python3",
      "display_name": "Python 3"
    },
    "language_info": {
      "name": "python"
    }
  },
  "cells": [
    {
      "cell_type": "markdown",
      "metadata": {
        "id": "view-in-github",
        "colab_type": "text"
      },
      "source": [
        "<a href=\"https://colab.research.google.com/github/jinhoishere/MachineLearning/blob/main/Homework2.ipynb\" target=\"_parent\"><img src=\"https://colab.research.google.com/assets/colab-badge.svg\" alt=\"Open In Colab\"/></a>"
      ]
    },
    {
      "cell_type": "code",
      "source": [
        "import numpy as np\n",
        "import matplotlib.pyplot as plt\n",
        "\n",
        "# Cost function: MSE\n",
        "def mean_squared_error(y_true, y_predicted):\n",
        "  cost = np.sum((y_true - y_predicted)**2) / (len(y_true))\n",
        "  return cost\n",
        "\n",
        "# Gradient Descent Function\n",
        "def gradient_descent(x, y, weight, bias, learning_rate, iterations):\n",
        "  # Initializing variables\n",
        "  current_weight = weight\n",
        "  current_bias = bias\n",
        "  current_learningRate = learning_rate\n",
        "  m = len(x)\n",
        "\n",
        "  costs = []\n",
        "  weights = []\n",
        "  previous_cost = None\n",
        "\n",
        "  # Estimation of optimal parameters\n",
        "  for i in range(iterations):\n",
        "    y_predicted = (current_weight) * x + current_bias\n",
        "    current_cost = mean_squared_error(y, y_predicted)\n",
        "\n",
        "    previous_cost = current_cost\n",
        "\n",
        "    costs.append(current_cost)\n",
        "    weights.append(current_weight)\n",
        "\n",
        "\n",
        "    # Print the parameters and estimated exam score for each iteration\n",
        "    print(\"<Question 2-1>\")\n",
        "    print(f\"Iteration({i+1}) - Weight {round(current_weight, 3)}, Bias {round(current_bias, 3)}, Cost {round(current_cost, 3)}\")\n",
        "    for i in range(len(x)):\n",
        "      y_predicted = (current_weight) * x[i] + current_bias\n",
        "      print(f\"Estimated exam score when studied hour is {x[i]}: {round(y_predicted, 3)}\")\n",
        "    print(\"\")\n",
        "\n",
        "    # Calculating the gradients\n",
        "    weight_derivative = -(2/m) * sum(x * (y - y_predicted))\n",
        "    bias_derivative = -(2/m) * sum(y - y_predicted)\n",
        "\n",
        "    # Updating weights and bias\n",
        "    current_weight = current_weight - (current_learningRate * weight_derivative)\n",
        "    current_bias = current_bias - (current_learningRate * bias_derivative)\n",
        "\n",
        "  return current_weight, current_bias\n",
        "\n",
        "# Main function\n",
        "def main():\n",
        "  # Given data\n",
        "  hoursStudied = np.array([2, 3, 4])\n",
        "  examScore = np.array([68, 75, 82])\n",
        "\n",
        "  # Parameters\n",
        "  x = hoursStudied\n",
        "  y = examScore\n",
        "  weight = 0.1\n",
        "  bias = 0.1\n",
        "  learning_rate = 0.01\n",
        "  iteration = 3\n",
        "\n",
        "  # Run gradient descent\n",
        "  estimated_weight, estimated_bias = gradient_descent(x, y, weight, bias, learning_rate, iteration)\n",
        "\n",
        "  # Estimated exam score when studied hour is 5\n",
        "  studied_hour = 5\n",
        "  y_est = estimated_weight * studied_hour + estimated_bias\n",
        "  print(\"<Question 2-2>\")\n",
        "  print(f\"Estimated exam score when hours studied is {studied_hour}: {round(y_est, 3)}\")\n",
        "\n",
        "if __name__==\"__main__\":\n",
        "\tmain()\n"
      ],
      "metadata": {
        "colab": {
          "base_uri": "https://localhost:8080/"
        },
        "id": "GcD1xlvBkb4w",
        "outputId": "0dc5ff06-7f70-45d9-cec3-12dc7d7b5354"
      },
      "execution_count": 67,
      "outputs": [
        {
          "output_type": "stream",
          "name": "stdout",
          "text": [
            "<Question 2-1>\n",
            "Iteration(1) - Weight 0.1, Bias 0.1, Cost 5596.9\n",
            "Estimated exam score when studied hour is 2: 0.3\n",
            "Estimated exam score when studied hour is 3: 0.4\n",
            "Estimated exam score when studied hour is 4: 0.5\n",
            "\n",
            "<Question 2-1>\n",
            "Iteration(2) - Weight 4.663, Bias 1.59, Cost 3534.376\n",
            "Estimated exam score when studied hour is 2: 10.917\n",
            "Estimated exam score when studied hour is 3: 15.58\n",
            "Estimated exam score when studied hour is 4: 20.243\n",
            "\n",
            "<Question 2-1>\n",
            "Iteration(3) - Weight 8.042, Bias 2.685, Cost 2322.872\n",
            "Estimated exam score when studied hour is 2: 18.769\n",
            "Estimated exam score when studied hour is 3: 26.811\n",
            "Estimated exam score when studied hour is 4: 34.853\n",
            "\n",
            "<Question 2-2>\n",
            "Estimated exam score when hours studied is 5: 56.209\n"
          ]
        }
      ]
    }
  ]
}